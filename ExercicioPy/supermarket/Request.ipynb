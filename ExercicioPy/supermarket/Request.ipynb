{
 "cells": [
  {
   "cell_type": "code",
   "execution_count": null,
   "metadata": {},
   "outputs": [],
   "source": [
    "apikey = ''\n",
    "url = 'https://api.exemplo.com/data'\n",
    "response = requests.get(url)\n",
    "if response.status_code == 200\n",
    "data = response.json()\n",
    "for item in data:\n",
    "    print(item)\n",
    "\n",
    "else:"
   ]
  }
 ],
 "metadata": {
  "language_info": {
   "name": "python"
  }
 },
 "nbformat": 4,
 "nbformat_minor": 2
}
